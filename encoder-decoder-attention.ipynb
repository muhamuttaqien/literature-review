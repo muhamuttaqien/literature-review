{
 "cells": [
  {
   "cell_type": "code",
   "execution_count": 1,
   "id": "a9aece80-a4f6-4922-b3fa-d6c8ed5aaaa4",
   "metadata": {},
   "outputs": [],
   "source": [
    "import torch\n",
    "import torch.nn as nn\n",
    "import torch.nn.functional as F"
   ]
  },
  {
   "cell_type": "code",
   "execution_count": 2,
   "id": "8963e9b7-908f-4876-bf1d-54716124cdc3",
   "metadata": {},
   "outputs": [],
   "source": [
    "class Attention(nn.Module): \n",
    "    def __init__(self, d_model=2,  \n",
    "                 row_dim=0, \n",
    "                 col_dim=1):\n",
    "        \n",
    "        super().__init__()\n",
    "        \n",
    "        # define weight matrices for query (q), key (k), and value (v)\n",
    "        self.W_q = nn.Linear(in_features=d_model, out_features=d_model, bias=False)\n",
    "        self.W_k = nn.Linear(in_features=d_model, out_features=d_model, bias=False)\n",
    "        self.W_v = nn.Linear(in_features=d_model, out_features=d_model, bias=False)\n",
    "        \n",
    "        self.row_dim = row_dim\n",
    "        self.col_dim = col_dim\n",
    "\n",
    "    ## the only change from SelfAttention and attention is that\n",
    "    ## now it expects 3 sets of encodings to be passed in\n",
    "    def forward(self, encodings_for_q, encodings_for_k, encodings_for_v, mask=None):\n",
    "        # apply the linear transformations to the input encodings\n",
    "        # pass those sets of encodings to the various weight matrices\n",
    "        q = self.W_q(encodings_for_q)\n",
    "        k = self.W_k(encodings_for_k)\n",
    "        v = self.W_v(encodings_for_v)\n",
    "\n",
    "        # clculate the similarity scores between q and k\n",
    "        sims = torch.matmul(q, k.transpose(dim0=self.row_dim, dim1=self.col_dim))\n",
    "\n",
    "        # scale the similarity scores\n",
    "        scaled_sims = sims / torch.tensor(k.size(self.col_dim)**0.5)\n",
    "\n",
    "        # apply the mask (if any)\n",
    "        if mask is not None:\n",
    "            scaled_sims = scaled_sims.masked_fill(mask=mask, value=-1e9)\n",
    "            \n",
    "        # calculate the attention scores using softmax\n",
    "        attention_percents = F.softmax(scaled_sims, dim=self.col_dim)\n",
    "\n",
    "        # get the attention-weighted sum of the values (v)\n",
    "        attention_scores = torch.matmul(attention_percents, v)\n",
    "\n",
    "        return attention_scores"
   ]
  },
  {
   "cell_type": "code",
   "execution_count": 3,
   "id": "d3724783-1974-4504-b089-3e2e9f09aab9",
   "metadata": {},
   "outputs": [
    {
     "name": "stdout",
     "output_type": "stream",
     "text": [
      "tensor([[1.0100, 1.0641],\n",
      "        [0.2040, 0.7057],\n",
      "        [3.4989, 2.2427]], grad_fn=<MmBackward0>)\n"
     ]
    }
   ],
   "source": [
    "# define some sample encoding matrices\n",
    "encodings_for_q = torch.tensor([[1.16, 0.23],\n",
    "                                [0.57, 1.36],\n",
    "                                [4.41, -2.16]])\n",
    "\n",
    "encodings_for_k = torch.tensor([[1.16, 0.23],\n",
    "                                [0.57, 1.36],\n",
    "                                [4.41, -2.16]])\n",
    "\n",
    "encodings_for_v = torch.tensor([[1.16, 0.23],\n",
    "                                [0.57, 1.36],\n",
    "                                [4.41, -2.16]])\n",
    "\n",
    "# set the seed for the random number generator\n",
    "torch.manual_seed(42)\n",
    "\n",
    "# create an attention object\n",
    "attention = Attention(d_model=2,\n",
    "                      row_dim=0,\n",
    "                      col_dim=1)\n",
    "\n",
    "# calculate encoder-decoder attention (using the `attention` object)\n",
    "output = attention(encodings_for_q, encodings_for_k, encodings_for_v)\n",
    "print(output)"
   ]
  },
  {
   "cell_type": "code",
   "execution_count": 4,
   "id": "1224e2f9-eb27-451d-81b7-84b0c36a60ae",
   "metadata": {},
   "outputs": [],
   "source": [
    "class MultiHeadAttention(nn.Module):\n",
    "\n",
    "    def __init__(self, \n",
    "                 d_model=2,  \n",
    "                 row_dim=0, \n",
    "                 col_dim=1, \n",
    "                 num_heads=1):\n",
    "        \n",
    "        super().__init__()\n",
    "\n",
    "        ## create a bunch of attention heads\n",
    "        self.heads = nn.ModuleList(\n",
    "            [Attention(d_model, row_dim, col_dim) \n",
    "             for _ in range(num_heads)]\n",
    "        )\n",
    "\n",
    "        self.col_dim = col_dim\n",
    "        \n",
    "    def forward(self, \n",
    "                encodings_for_q, \n",
    "                encodings_for_k,\n",
    "                encodings_for_v):\n",
    "\n",
    "        ## run the data through all of the attention heads\n",
    "        return torch.cat([head(encodings_for_q, \n",
    "                               encodings_for_k,\n",
    "                               encodings_for_v) \n",
    "                          for head in self.heads], dim=self.col_dim)"
   ]
  },
  {
   "cell_type": "code",
   "execution_count": 5,
   "id": "6781ae2b-869b-4af8-adf8-43ea5bcb6ea6",
   "metadata": {},
   "outputs": [
    {
     "data": {
      "text/plain": [
       "tensor([[1.0100, 1.0641],\n",
       "        [0.2040, 0.7057],\n",
       "        [3.4989, 2.2427]], grad_fn=<CatBackward0>)"
      ]
     },
     "execution_count": 5,
     "metadata": {},
     "output_type": "execute_result"
    }
   ],
   "source": [
    "## set the seed for the random number generator\n",
    "torch.manual_seed(42)\n",
    "\n",
    "## create an attention object\n",
    "multiHeadAttention = MultiHeadAttention(d_model=2,\n",
    "                                        row_dim=0,\n",
    "                                        col_dim=1,\n",
    "                                        num_heads=1)\n",
    "\n",
    "## calculate encoder-decoder attention\n",
    "multiHeadAttention(encodings_for_q, encodings_for_k, encodings_for_v)"
   ]
  },
  {
   "cell_type": "code",
   "execution_count": 6,
   "id": "ccfc380b-8d58-4be3-82b6-d85fa658d43c",
   "metadata": {},
   "outputs": [
    {
     "data": {
      "text/plain": [
       "tensor([[ 1.0100,  1.0641, -0.7081, -0.8268],\n",
       "        [ 0.2040,  0.7057, -0.7417, -0.9193],\n",
       "        [ 3.4989,  2.2427, -0.7190, -0.8447]], grad_fn=<CatBackward0>)"
      ]
     },
     "execution_count": 6,
     "metadata": {},
     "output_type": "execute_result"
    }
   ],
   "source": [
    "## set the seed for the random number generator\n",
    "torch.manual_seed(42)\n",
    "\n",
    "## create an attention object\n",
    "multiHeadAttention = MultiHeadAttention(d_model=2,\n",
    "                                        row_dim=0,\n",
    "                                        col_dim=1,\n",
    "                                        num_heads=2)\n",
    "\n",
    "## calculate encoder-decoder attention\n",
    "multiHeadAttention(encodings_for_q, encodings_for_k, encodings_for_v)"
   ]
  },
  {
   "cell_type": "markdown",
   "id": "3d1779ca-74a6-4194-a6cd-6281c30b1b1f",
   "metadata": {},
   "source": [
    "---"
   ]
  }
 ],
 "metadata": {
  "kernelspec": {
   "display_name": "Python (muhammad-ra)",
   "language": "python",
   "name": "muhammad-ra"
  },
  "language_info": {
   "codemirror_mode": {
    "name": "ipython",
    "version": 3
   },
   "file_extension": ".py",
   "mimetype": "text/x-python",
   "name": "python",
   "nbconvert_exporter": "python",
   "pygments_lexer": "ipython3",
   "version": "3.8.10"
  }
 },
 "nbformat": 4,
 "nbformat_minor": 5
}
