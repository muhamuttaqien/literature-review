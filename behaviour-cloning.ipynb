{
 "cells": [
  {
   "cell_type": "code",
   "execution_count": 1,
   "id": "b3a994c8-e644-4b7e-974e-237039607db0",
   "metadata": {},
   "outputs": [],
   "source": [
    "import torch\n",
    "import torch.nn as nn\n",
    "import torch.optim as optim\n",
    "import numpy as np"
   ]
  },
  {
   "cell_type": "markdown",
   "id": "956a10e9-f266-4ccf-8b83-54a95c58d9aa",
   "metadata": {},
   "source": [
    "## Simple neural network"
   ]
  },
  {
   "cell_type": "code",
   "execution_count": 2,
   "id": "76cb1b94-dfa3-499f-a52a-f60107cb03b7",
   "metadata": {},
   "outputs": [],
   "source": [
    "class BC_Network(nn.Module):\n",
    "    def __init__(self, input_size, output_size):\n",
    "        super(BC_Network, self).__init__()\n",
    "        self.fc1 = nn.Linear(input_size, 64)\n",
    "        self.fc2 = nn.Linear(64, 64)\n",
    "        self.fc3 = nn.Linear(64, output_size)\n",
    "\n",
    "    def forward(self, x):\n",
    "        x = torch.relu(self.fc1(x))\n",
    "        x = torch.relu(self.fc2(x))\n",
    "        return self.fc3(x)"
   ]
  },
  {
   "cell_type": "code",
   "execution_count": 3,
   "id": "ae52da6e-9db8-425b-b992-3ebaf36168d8",
   "metadata": {},
   "outputs": [],
   "source": [
    "# Example data: states (e.g., images or feature vectors) and expert actions\n",
    "states = np.random.randn(1000, 10)  # 1000 states with 10 features\n",
    "actions = np.random.randn(1000, 2)  # 1000 actions with 2 dimensions (e.g., 2D)\n",
    "\n",
    "# Convert to PyTorch tensors\n",
    "states = torch.tensor(states, dtype=torch.float32)\n",
    "actions = torch.tensor(actions, dtype=torch.float32)\n",
    "\n",
    "# Initialize model, loss function, and optimizer\n",
    "model = BC_Network(input_size=10, output_size=2)\n",
    "criterion = nn.MSELoss()\n",
    "optimizer = optim.Adam(model.parameters(), lr=0.001)"
   ]
  },
  {
   "cell_type": "markdown",
   "id": "e12a2fef-6203-4723-882d-300ccb8252bf",
   "metadata": {},
   "source": [
    "## Training loop"
   ]
  },
  {
   "cell_type": "code",
   "execution_count": 4,
   "id": "797b7b27-e553-4c84-b09a-72aa52d94f00",
   "metadata": {},
   "outputs": [
    {
     "name": "stdout",
     "output_type": "stream",
     "text": [
      "Epoch 0, Loss: 1.029486060142517\n",
      "Epoch 100, Loss: 0.7919188737869263\n",
      "Epoch 200, Loss: 0.4418388605117798\n",
      "Epoch 300, Loss: 0.2389066368341446\n",
      "Epoch 400, Loss: 0.14609679579734802\n",
      "Epoch 500, Loss: 0.09871659427881241\n",
      "Epoch 600, Loss: 0.07145064324140549\n",
      "Epoch 700, Loss: 0.05374564975500107\n",
      "Epoch 800, Loss: 0.042260266840457916\n",
      "Epoch 900, Loss: 0.03374309092760086\n"
     ]
    }
   ],
   "source": [
    "for epoch in range(1000):\n",
    "    optimizer.zero_grad()\n",
    "    outputs = model(states)\n",
    "    loss = criterion(outputs, actions)\n",
    "    loss.backward()\n",
    "    optimizer.step()\n",
    "\n",
    "    if epoch % 100 == 0:\n",
    "        print(f'Epoch {epoch}, Loss: {loss.item()}')\n",
    "\n",
    "# Now, the model is trained to clone the behavior of the expert."
   ]
  },
  {
   "cell_type": "markdown",
   "id": "8350aacc-311e-4b3b-a10e-30100ede1090",
   "metadata": {},
   "source": [
    "---"
   ]
  }
 ],
 "metadata": {
  "kernelspec": {
   "display_name": "Python (muhammad-ra)",
   "language": "python",
   "name": "muhammad-ra"
  },
  "language_info": {
   "codemirror_mode": {
    "name": "ipython",
    "version": 3
   },
   "file_extension": ".py",
   "mimetype": "text/x-python",
   "name": "python",
   "nbconvert_exporter": "python",
   "pygments_lexer": "ipython3",
   "version": "3.8.10"
  }
 },
 "nbformat": 4,
 "nbformat_minor": 5
}
