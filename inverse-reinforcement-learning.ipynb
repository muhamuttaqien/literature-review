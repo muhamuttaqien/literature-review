{
 "cells": [
  {
   "cell_type": "code",
   "execution_count": 1,
   "id": "82ca129c-f09b-455f-b5c9-a161fc1929cd",
   "metadata": {},
   "outputs": [],
   "source": [
    "import numpy as np\n",
    "import torch\n",
    "import torch.nn as nn\n",
    "import torch.optim as optim"
   ]
  },
  {
   "cell_type": "markdown",
   "id": "ea11a5ce-8959-4d82-a7b7-ecc6e2dea3cc",
   "metadata": {},
   "source": [
    "## Simple feature-based reward function"
   ]
  },
  {
   "cell_type": "code",
   "execution_count": 2,
   "id": "88329940-08e1-4004-bcf1-299693f0df86",
   "metadata": {},
   "outputs": [],
   "source": [
    "class RewardFunction(nn.Module):\n",
    "    def __init__(self, state_size):\n",
    "        super(RewardFunction, self).__init__()\n",
    "        self.fc = nn.Linear(state_size, 1)\n",
    "\n",
    "    def forward(self, x):\n",
    "        return self.fc(x)"
   ]
  },
  {
   "cell_type": "code",
   "execution_count": 3,
   "id": "88230ab7-a343-4164-b682-d79d476f68a3",
   "metadata": {},
   "outputs": [],
   "source": [
    "# Expert trajectory (states and corresponding actions)\n",
    "expert_states = np.random.randn(1000, 10)  # 1000 states with 10 features\n",
    "expert_actions = np.random.randn(1000, 2)  # 1000 actions\n",
    "\n",
    "# Convert to PyTorch tensors\n",
    "states = torch.tensor(expert_states, dtype=torch.float32)\n",
    "actions = torch.tensor(expert_actions, dtype=torch.float32)\n",
    "\n",
    "# Initialize reward function and optimizer\n",
    "reward_fn = RewardFunction(state_size=10)\n",
    "optimizer = optim.Adam(reward_fn.parameters(), lr=0.001)"
   ]
  },
  {
   "cell_type": "markdown",
   "id": "93606a14-86e6-4b36-a976-bca24bdeca6c",
   "metadata": {},
   "source": [
    "## Train loop"
   ]
  },
  {
   "cell_type": "code",
   "execution_count": 4,
   "id": "b7a4ef1a-24cf-47c4-99f7-34c80d4cf591",
   "metadata": {},
   "outputs": [
    {
     "name": "stdout",
     "output_type": "stream",
     "text": [
      "Epoch 0, Loss: 0.19827845692634583\n",
      "Epoch 100, Loss: 0.07856760174036026\n",
      "Epoch 200, Loss: -0.04114299267530441\n",
      "Epoch 300, Loss: -0.16085349023342133\n",
      "Epoch 400, Loss: -0.28056421875953674\n",
      "Epoch 500, Loss: -0.4002741575241089\n",
      "Epoch 600, Loss: -0.5199833512306213\n",
      "Epoch 700, Loss: -0.639693558216095\n",
      "Epoch 800, Loss: -0.7594028115272522\n",
      "Epoch 900, Loss: -0.8791123032569885\n"
     ]
    }
   ],
   "source": [
    "for epoch in range(1000):\n",
    "    optimizer.zero_grad()\n",
    "    \n",
    "    # Compute reward for each state\n",
    "    rewards = reward_fn(states)\n",
    "    \n",
    "    # Max-Entropy IRL Loss: we want the expert's actions to be the most likely\n",
    "    # In practice, this would involve a more complex RL-based optimization, \n",
    "    # but here we demonstrate a simple approach.\n",
    "    loss = torch.mean(-rewards)  # This is a simplified version for demonstration purposes\n",
    "    \n",
    "    loss.backward()\n",
    "    optimizer.step()\n",
    "\n",
    "    if epoch % 100 == 0:\n",
    "        print(f'Epoch {epoch}, Loss: {loss.item()}')\n",
    "\n",
    "# Now, the reward function has been trained to predict the expert's behavior."
   ]
  },
  {
   "cell_type": "markdown",
   "id": "bf5659d3-febd-4368-9a32-26a577f3f882",
   "metadata": {},
   "source": [
    "---"
   ]
  }
 ],
 "metadata": {
  "kernelspec": {
   "display_name": "Python (muhammad-ra)",
   "language": "python",
   "name": "muhammad-ra"
  },
  "language_info": {
   "codemirror_mode": {
    "name": "ipython",
    "version": 3
   },
   "file_extension": ".py",
   "mimetype": "text/x-python",
   "name": "python",
   "nbconvert_exporter": "python",
   "pygments_lexer": "ipython3",
   "version": "3.8.10"
  }
 },
 "nbformat": 4,
 "nbformat_minor": 5
}
